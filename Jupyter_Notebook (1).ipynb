{
 "cells": [
  {
   "cell_type": "markdown",
   "metadata": {},
   "source": [
    "# Jean Sommier's Notebook\n"
   ]
  },
  {
   "cell_type": "markdown",
   "metadata": {},
   "source": [
    "#### This is my assigment - I hope it works out"
   ]
  },
  {
   "cell_type": "markdown",
   "metadata": {},
   "source": [
    "##### Here are some data science computer languages:  \n",
    "1. Python  \n",
    "2. R  \n",
    "3. Scala  \n",
    "4. Julia"
   ]
  },
  {
   "cell_type": "markdown",
   "metadata": {},
   "source": [
    "##### Here are some data science libraries:  \n",
    "1. Numpy\n",
    "2. Pandas\n",
    "3. Keras\n",
    "4. ScikitLearn\n",
    "5. TensorFlow"
   ]
  },
  {
   "cell_type": "markdown",
   "metadata": {},
   "source": [
    "##### Here is a table of data science tools: \n",
    "| Tool             | Purpose                                                  |\n",
    "|------------------|-----------------------------------------------------------|\n",
    "| Jupyter Notebook | Interactive coding environment for data exploration and visualization |\n",
    "| Power BI         | Business intelligence tool for creating dashboards and visual reports |\n",
    "| Hadoop           | Distributed storage and processing of large-scale datasets |\n",
    "| Git              | Version control system for tracking changes and collaboration |"
   ]
  },
  {
   "cell_type": "markdown",
   "metadata": {},
   "source": [
    "### Arithmetic Expression Examples\n",
    "\n",
    "Here are arythmetic expressions.\n",
    "\n",
    "- 5 + 3 → Addition\n",
    "- 10 - 2 → Subtraction\n"
   ]
  },
  {
   "cell_type": "code",
   "execution_count": 1,
   "metadata": {},
   "outputs": [
    {
     "data": {
      "text/plain": [
       "3"
      ]
     },
     "execution_count": 1,
     "metadata": {},
     "output_type": "execute_result"
    }
   ],
   "source": [
    "x=1\n",
    "y=2\n",
    "x+y"
   ]
  },
  {
   "cell_type": "code",
   "execution_count": 2,
   "metadata": {},
   "outputs": [
    {
     "data": {
      "text/plain": [
       "1.0833333333333333"
      ]
     },
     "execution_count": 2,
     "metadata": {},
     "output_type": "execute_result"
    }
   ],
   "source": [
    "# minutes is the number of minutes\n",
    "# hours is the number of hours\n",
    "minutes = 65\n",
    "hours = minutes / 60\n",
    "hours"
   ]
  },
  {
   "cell_type": "markdown",
   "metadata": {},
   "source": [
    "##### These were the objectives\n",
    "\n",
    "1. Exercise 2 - Create a markdown cell with the title of the notebook. (1 pt)\n",
    "\n",
    "2. Exercise 3 - Create a markdown cell for an introduction. (1 pt)\n",
    "\n",
    "3. Exercise 4 - Create a markdown cell to list data science languages. (3 pts)\n",
    "\n",
    "4. Exercise 5 - Create a markdown cell to list data science libraries. (3 pts)\n",
    "\n",
    "5. Exercise 6 - Create a markdown cell with a table of Data Science tools. (3 pts)\n",
    "\n",
    "6. Exercise 7 - Create a markdown cell introducing arithmetic expression examples. (1 pt)\n",
    "\n",
    "7. Exercise 8 - Create a code cell to multiply and add numbers. (2 pts)\n",
    "\n",
    "8. Exercise 9 - Create a code cell to convert minutes to hours. (2 pts)\n",
    "\n",
    "9. Exercise 10 -Insert a markdown cell to list Objectives. (3 pts)\n",
    "\n",
    "10. Exercise 11 - Create a markdown cell to indicate the Author’s name. (2 pts)\n",
    "\n",
    "11. Exercise 12 - Share your notebook through GitHub (3 pts)\n",
    "\n",
    "12. Exercise 13 - Take a screenshot of the first page of the notebook. (1 pt)"
   ]
  },
  {
   "cell_type": "markdown",
   "metadata": {},
   "source": [
    "#### My Name is Jean Sommier"
   ]
  }
 ],
 "metadata": {
  "kernelspec": {
   "display_name": "Python 3 (ipykernel)",
   "language": "python",
   "name": "python3"
  },
  "language_info": {
   "codemirror_mode": {
    "name": "ipython",
    "version": 3
   },
   "file_extension": ".py",
   "mimetype": "text/x-python",
   "name": "python",
   "nbconvert_exporter": "python",
   "pygments_lexer": "ipython3",
   "version": "3.12.8"
  }
 },
 "nbformat": 4,
 "nbformat_minor": 4
}
